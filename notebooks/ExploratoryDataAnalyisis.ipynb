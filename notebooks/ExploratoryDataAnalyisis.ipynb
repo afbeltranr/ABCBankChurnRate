{
 "cells": [
  {
   "cell_type": "code",
   "execution_count": 3,
   "metadata": {},
   "outputs": [],
   "source": [
    "\n",
    "import os\n",
    "os.environ[\"GOOGLE_APPLICATION_CREDENTIALS\"] = \"/workspaces/ABCBankChurnRate/config/kagglebigquerybankchurn-8d897104d656.json\"\n"
   ]
  },
  {
   "cell_type": "code",
   "execution_count": 4,
   "metadata": {},
   "outputs": [
    {
     "name": "stdout",
     "output_type": "stream",
     "text": [
      "No datasets found in project.\n"
     ]
    }
   ],
   "source": [
    "from google.cloud import bigquery\n",
    "\n",
    "# Authenticate using the service account\n",
    "client = bigquery.Client()\n",
    "\n",
    "# List datasets in the project\n",
    "datasets = list(client.list_datasets())\n",
    "if datasets:\n",
    "    print(\"Datasets in project:\")\n",
    "    for dataset in datasets:\n",
    "        print(dataset.dataset_id)\n",
    "else:\n",
    "    print(\"No datasets found in project.\")"
   ]
  }
 ],
 "metadata": {
  "language_info": {
   "name": "python"
  }
 },
 "nbformat": 4,
 "nbformat_minor": 2
}
