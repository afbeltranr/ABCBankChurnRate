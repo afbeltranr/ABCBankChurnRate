{
 "cells": [
  {
   "cell_type": "markdown",
   "metadata": {},
   "source": [
    "# 📊 Which ML algorithm works best to predict customer churn? :Exploratory Analysis with BigQuery & Python 🚀\n",
    "\n",
    "## **Introduction**\n",
    "\n",
    "In this notebook, we will analyze customer churn data using Google BigQuery and Python. The dataset contains information about customers. the varibles in the dataset are:\n",
    "\n",
    "1. customer_id\n",
    "2. credit_score \n",
    "3. country\n",
    "4. gender\n",
    "5. age\n",
    "6. tenure\n",
    "7. balance\n",
    "8. products_number\n",
    "9. credit_card\n",
    "10. active_member\n",
    "11. estimated_salary\n",
    "12. churn, used as the target. 1 if the client has left the bank during some period or 0 if he/she has not.\n",
    "\n",
    "In this notebook we will set up the connection between kaggle and BigQuery, retrieve some insightful data trough queries in BigQuery, and perform some basic data analysis. We will also visualize the data using matplotlib and seaborn.\n"
   ]
  },
  {
   "cell_type": "markdown",
   "metadata": {},
   "source": [
    "Now the steps to migrate the data from kaggle to bigquery are shown in this diagram: "
   ]
  },
  {
   "cell_type": "markdown",
   "metadata": {},
   "source": [
    "## Fetching Dataset From Kaggle\n",
    "\n",
    "Now, this dataset is avaliable at kaggle [here](https://www.kaggle.com/datasets/gauravtopre/bank-customer-churn-dataset). I selected this dataset because the dependent variable is categorical. As a chemist, I'm used to working with continuous variables for prediction problems. I find this dataset a good opportunity to apply  classification algorithms.\n",
    "\n",
    "let's then import the `kaggle API` first:"
   ]
  },
  {
   "cell_type": "code",
   "execution_count": 3,
   "metadata": {},
   "outputs": [],
   "source": [
    "from kaggle.api.kaggle_api_extended import KaggleApi\n"
   ]
  },
  {
   "cell_type": "markdown",
   "metadata": {},
   "source": [
    "Now, the kaggle credentials are stored as secrets in this github repository, so we can extract them using `os.environ.get`. Then, we can create folder with the filepath where the json file will be stored."
   ]
  },
  {
   "cell_type": "code",
   "execution_count": 4,
   "metadata": {},
   "outputs": [],
   "source": [
    "import os\n",
    "\n",
    "kaggle_token = os.environ.get(\"KAGGLE_JSON\")\n",
    "kaggle_config_dir = os.path.expanduser(\"~/.config/kaggle\")\n",
    "os.makedirs(kaggle_config_dir, exist_ok=True)\n",
    "\n"
   ]
  },
  {
   "cell_type": "markdown",
   "metadata": {},
   "source": [
    "Once the file is ready to host our credentials with it's dedicated folder, we can create the write content into the file, with the filename.\n",
    "\n",
    "the `with` statement is used to open the file in write mode, hence the use of the `w` flag. \n",
    "\n",
    "finally we set the permissions of the file so only me (the owner) can read and write to it, and then we can use the kaggle API to download the dataset."
   ]
  },
  {
   "cell_type": "code",
   "execution_count": 5,
   "metadata": {},
   "outputs": [],
   "source": [
    "kaggle_json_path = os.path.join(kaggle_config_dir, \"kaggle.json\")\n",
    "with open(kaggle_json_path, \"w\") as f:\n",
    "    f.write(kaggle_token)\n",
    "\n",
    "os.chmod(kaggle_json_path, 0o600)"
   ]
  },
  {
   "cell_type": "markdown",
   "metadata": {},
   "source": [
    "Now that we have everything set up, the next step would be to authenticate and check whether or not the credentials work:"
   ]
  },
  {
   "cell_type": "code",
   "execution_count": 6,
   "metadata": {},
   "outputs": [],
   "source": [
    "api = KaggleApi()\n",
    "api.authenticate()"
   ]
  },
  {
   "cell_type": "markdown",
   "metadata": {},
   "source": [
    "There are no errors raised, great! Now if we provide python both the link to the dataset and the folder where it will be saved, as follows:"
   ]
  },
  {
   "cell_type": "code",
   "execution_count": 7,
   "metadata": {},
   "outputs": [],
   "source": [
    "dataset_name = \"gauravtopre/bank-customer-churn-dataset\"  # the categorical dependent variable dataset I described to you earlier\n",
    "download_path = \"/tmp\"  # Temporary location, not inside this repo"
   ]
  },
  {
   "cell_type": "markdown",
   "metadata": {},
   "source": [
    "next we can use these new variables `dataset_name` and ``:\n",
    "\n",
    "* Kaggle's API to download the dataset\n",
    "* glob to check whether the file is downloaded or not, and display it's path:"
   ]
  },
  {
   "cell_type": "code",
   "execution_count": 8,
   "metadata": {},
   "outputs": [
    {
     "name": "stdout",
     "output_type": "stream",
     "text": [
      "Dataset URL: https://www.kaggle.com/datasets/gauravtopre/bank-customer-churn-dataset\n",
      "✅ Dataset downloaded: /tmp/Bank Customer Churn Prediction.csv\n",
      "✅ Dataset downloaded: /tmp/Bank Customer Churn Prediction.csv\n"
     ]
    }
   ],
   "source": [
    "import glob\n",
    "# Download dataset (ZIP file)\n",
    "api.dataset_download_files(dataset_name, path=download_path, unzip=True)\n",
    "\n",
    "# Find the downloaded CSV file\n",
    "csv_files = glob.glob(f\"{download_path}/*.csv\")\n",
    "assert len(csv_files) > 0, \"No CSV files found. Check dataset name.\"\n",
    "csv_file_path = csv_files[0]  \n",
    "\n",
    "print(f\"✅ Dataset downloaded: {csv_file_path}\")"
   ]
  },
  {
   "cell_type": "markdown",
   "metadata": {},
   "source": [
    "done! now we can move on to the next part, which is uploading the dataset to bigquery to excecute queries and explore the dataset. for this, we will use a gcp service account which I already set up, and saved it's key as a secret in this repository."
   ]
  },
  {
   "cell_type": "markdown",
   "metadata": {},
   "source": [
    "## Setting up Service Account Credentials and Initializing BigQuery Client\n",
    "\n",
    "Since both the credentials for kaggle and the service account are stored as secrets in this repository, we can extract them using `os.environ.get`. \n",
    "Then, we can create folder with the filepath where the json file will be stored."
   ]
  },
  {
   "cell_type": "code",
   "execution_count": 9,
   "metadata": {},
   "outputs": [],
   "source": [
    "import os\n",
    "# Save GCP service account JSON to a temporary file and set the path\n",
    "gcp_key = os.environ.get(\"GCP_SA_KEY\")\n",
    "gcp_path = \"/tmp/sa_credentials.json\"\n",
    " \n",
    "with open(gcp_path, \"w\") as f:\n",
    "    f.write(gcp_key)\n",
    "\n",
    "os.environ[\"GOOGLE_APPLICATION_CREDENTIALS\"] = gcp_path"
   ]
  },
  {
   "cell_type": "markdown",
   "metadata": {},
   "source": [
    "\n",
    "\n",
    "\n",
    "The folling code initializes the BigQuery client using the service account credentials stored in the environment variable `GOOGLE_APPLICATION_CREDENTIALS`. This allows us to interact with BigQuery and run queries.\n"
   ]
  },
  {
   "cell_type": "code",
   "execution_count": 10,
   "metadata": {},
   "outputs": [
    {
     "name": "stdout",
     "output_type": "stream",
     "text": [
      "kagglebigquerybankchurn\n"
     ]
    }
   ],
   "source": [
    "import google.cloud.bigquery as bigquery\n",
    "client = bigquery.Client()\n",
    "print(client.project)"
   ]
  },
  {
   "cell_type": "markdown",
   "metadata": {},
   "source": [
    "This `client` object will allow us to perform operations like:\n",
    "\n",
    "- Running SQL queries on BigQuery Datasets (My main goal on pursuing this specific path)\n",
    "- Creating datasets and tables (this will be needed to fetch)\n",
    "- fetch query results as `pandas` DataFrames."
   ]
  },
  {
   "cell_type": "code",
   "execution_count": 11,
   "metadata": {},
   "outputs": [
    {
     "name": "stdout",
     "output_type": "stream",
     "text": [
      "kagglebigquerybankchurn.churn_analysis.Kaggle_churn\n"
     ]
    }
   ],
   "source": [
    "project_id = client.project # This is already defined by the service account\n",
    "dataset_id = f\"{project_id}.churn_analysis\"\n",
    "table_id = \"Kaggle_churn\"\n",
    "full_table_id = f\"{dataset_id}.{table_id}\"\n",
    "print(full_table_id)"
   ]
  },
  {
   "cell_type": "markdown",
   "metadata": {},
   "source": [
    "Now that we have defined that unique identifier for the data table, and the dataset whithin it will be saved, we can go ahead and create the dataset:"
   ]
  },
  {
   "cell_type": "code",
   "execution_count": 12,
   "metadata": {},
   "outputs": [
    {
     "data": {
      "text/plain": [
       "Dataset(DatasetReference('kagglebigquerybankchurn', 'churn_analysis'))"
      ]
     },
     "execution_count": 12,
     "metadata": {},
     "output_type": "execute_result"
    }
   ],
   "source": [
    "client.create_dataset(dataset_id, exists_ok=True)"
   ]
  },
  {
   "cell_type": "markdown",
   "metadata": {},
   "source": [
    "\n",
    "Now check if there is any tables within the dataset. I think there should not because we have not used the kaggle API yet:"
   ]
  },
  {
   "cell_type": "code",
   "execution_count": 13,
   "metadata": {},
   "outputs": [
    {
     "name": "stdout",
     "output_type": "stream",
     "text": [
      "{'Kaggle_churn'}\n"
     ]
    }
   ],
   "source": [
    "tables = {table.table_id for table in client.list_tables(dataset_id)}\n",
    "print(tables)"
   ]
  },
  {
   "cell_type": "markdown",
   "metadata": {},
   "source": [
    "Ok this set comprehension (which I find tremendously efficient) loops trough all the tables within the dataset named `dataset_id`. indeed since right now we haven't used the kaggle functions there is no table yet. Let's get to that.\n",
    "\n",
    "ok the next chunk of code will upload the dataset to bigquery. \n",
    "\n",
    "this process need several configurations to be set, so we are going to save these in the `job_config` variable as follows:"
   ]
  },
  {
   "cell_type": "code",
   "execution_count": 14,
   "metadata": {},
   "outputs": [],
   "source": [
    "job_config = bigquery.LoadJobConfig(\n",
    "    autodetect = True,\n",
    "    source_format=bigquery.SourceFormat.CSV,\n",
    "    skip_leading_rows=1,\n",
    "    write_disposition=bigquery.WriteDisposition.WRITE_TRUNCATE  # This ensures table is overwritten, not appended to\n",
    ")"
   ]
  },
  {
   "cell_type": "markdown",
   "metadata": {},
   "source": [
    "### Important: Preventing Duplicate Data Accumulation\n",
    "\n",
    "The `write_disposition` parameter is crucial for data integrity:\n",
    "\n",
    "- **`WRITE_TRUNCATE`** (recommended): Overwrites the existing table with new data, preventing duplicates\n",
    "- **`WRITE_APPEND`** (default): Adds new data to existing table, which can create duplicates on repeated runs\n",
    "- **`WRITE_EMPTY`**: Only writes if the table is empty, fails if table exists\n",
    "\n",
    "Since we want to ensure clean, non-duplicated data in our analysis, we use `WRITE_TRUNCATE` to replace the table contents on each upload. This is especially important when running notebooks multiple times during development."
   ]
  },
  {
   "cell_type": "markdown",
   "metadata": {},
   "source": [
    "that `job_config` variable will tell the `load_table_from_file` function which schema to use, and what configuration the table load should have.\n",
    "\n",
    "I've been trough this process many times inside the bigquery site, and every time I felt like selecting options from drop down menus, and pushing buttons was not as reproducible as I would like it to be. Now I'm glad it can be written down in code and anyone can use this for their needs (assuming someone besides me reads this 🤣). \n",
    "\n",
    "Now let's do the upload:"
   ]
  },
  {
   "cell_type": "code",
   "execution_count": 15,
   "metadata": {},
   "outputs": [
    {
     "data": {
      "text/plain": [
       "LoadJob<project=kagglebigquerybankchurn, location=US, id=763c724b-fb29-4b95-ad4b-623c41cca20d>"
      ]
     },
     "execution_count": 15,
     "metadata": {},
     "output_type": "execute_result"
    }
   ],
   "source": [
    "with open(csv_file_path, \"rb\") as source_file:\n",
    "    job = client.load_table_from_file(source_file, full_table_id, job_config=job_config)\n",
    "\n",
    "job.result()"
   ]
  },
  {
   "cell_type": "markdown",
   "metadata": {},
   "source": [
    "## SQL Queries in BigQuery\n",
    "\n",
    "OK! finally, we have the dataset in biquery and we can query it so it gives us insight on how we should address the data, and which model we could use to predict the bank churn. \n",
    "\n"
   ]
  },
  {
   "cell_type": "markdown",
   "metadata": {},
   "source": [
    "\n",
    "\n",
    "## EDA with SQL Queries\n",
    "\n",
    "### Data Validation\n",
    "\n",
    "First we can check if there is any missing values. This can be done both with SQL and python, let's do both for sake of comparison.\n",
    "\n",
    "#### Missing values with SQL\n",
    "\n",
    "Since using SQL in bigquery there is no way to dinamically loop trough a dataset column, each column must be checked. if we were only using SQL it would look like this:"
   ]
  },
  {
   "cell_type": "markdown",
   "metadata": {
    "vscode": {
     "languageId": "sql"
    }
   },
   "source": [
    "`SELECT \n",
    "    SUM(CASE WHEN credit_score IS NULL THEN 1 ELSE 0 END) AS missing_credit_score,\n",
    "    ... -- other columns as needed`"
   ]
  },
  {
   "cell_type": "markdown",
   "metadata": {},
   "source": [
    "Where the CASE statement begins a control flow structure that checks whether or not there is null values in the column, and then the sum fuction adds them all up. Having checked that, we can define the query to pass it to the BigQuery client and execute it:"
   ]
  },
  {
   "cell_type": "code",
   "execution_count": 16,
   "metadata": {},
   "outputs": [],
   "source": [
    "missing_values_query = \"\"\"\n",
    "SELECT\n",
    "  SUM(CASE WHEN credit_score IS NULL THEN 1 ELSE 0 END) AS missing_credit_score,\n",
    "  SUM(CASE WHEN country IS NULL THEN 1 ELSE 0 END) AS missing_country,\n",
    "  SUM(CASE WHEN gender IS NULL THEN 1 ELSE 0 END) AS missing_gender,\n",
    "  SUM(CASE WHEN age IS NULL THEN 1 ELSE 0 END) AS missing_age,\n",
    "  SUM(CASE WHEN tenure IS NULL THEN 1 ELSE 0 END) AS missing_tenure,\n",
    "  SUM(CASE WHEN balance IS NULL THEN 1 ELSE 0 END) AS missing_balance,\n",
    "  SUM(CASE WHEN products_number IS NULL THEN 1 ELSE 0 END) AS missing_products_number,\n",
    "  SUM(CASE WHEN credit_card IS NULL THEN 1 ELSE 0 END) AS missing_credit_card,\n",
    "  SUM(CASE WHEN active_member IS NULL THEN 1 ELSE 0 END) AS missing_active_member,\n",
    "  SUM(CASE WHEN estimated_salary IS NULL THEN 1 ELSE 0 END) AS missing_estimated_salary,\n",
    "  SUM(CASE WHEN churn IS NULL THEN 1 ELSE 0 END) AS missing_churn\n",
    "FROM\n",
    "  `kagglebigquerybankchurn.churn_analysis.Kaggle_churn`\n",
    "\"\"\""
   ]
  },
  {
   "cell_type": "markdown",
   "metadata": {},
   "source": [
    "### Generating data cleaning SQL queries with python:\n",
    "\n",
    "above we just repeated the same structure that is neede to retrieve the amount of missing values with SQL in a column, for all columns within the dataset. Conversely, we can use python to automate query generation, as follows:"
   ]
  },
  {
   "cell_type": "markdown",
   "metadata": {},
   "source": [
    "* First we use the bigquery `client` we generated to retrieve the table's metadata, where column names are stored:"
   ]
  },
  {
   "cell_type": "code",
   "execution_count": 17,
   "metadata": {},
   "outputs": [],
   "source": [
    "table_ref = client.get_table(full_table_id)"
   ]
  },
  {
   "cell_type": "markdown",
   "metadata": {},
   "source": [
    "* then, we can use a list comprehension, which is a compact loop that generates a list of strings, to save the column names in the columns variable:"
   ]
  },
  {
   "cell_type": "code",
   "execution_count": 18,
   "metadata": {},
   "outputs": [
    {
     "name": "stdout",
     "output_type": "stream",
     "text": [
      "['credit_score', 'country', 'gender', 'age', 'tenure', 'balance', 'products_number', 'credit_card', 'active_member', 'estimated_salary', 'churn']\n"
     ]
    }
   ],
   "source": [
    "columns = [schema_field.name for schema_field in table_ref.schema if schema_field.name != \"customer_id\"]\n",
    "print(columns)"
   ]
  },
  {
   "cell_type": "markdown",
   "metadata": {},
   "source": [
    "Now that we have the actual names of the columns, the same query can be generated using a list comprehension as follows:"
   ]
  },
  {
   "cell_type": "code",
   "execution_count": 19,
   "metadata": {},
   "outputs": [
    {
     "name": "stdout",
     "output_type": "stream",
     "text": [
      "['SUM(CASE WHEN credit_score IS NULL THEN 1 ELSE 0 END) AS missing_credit_score', 'SUM(CASE WHEN country IS NULL THEN 1 ELSE 0 END) AS missing_country', 'SUM(CASE WHEN gender IS NULL THEN 1 ELSE 0 END) AS missing_gender', 'SUM(CASE WHEN age IS NULL THEN 1 ELSE 0 END) AS missing_age', 'SUM(CASE WHEN tenure IS NULL THEN 1 ELSE 0 END) AS missing_tenure', 'SUM(CASE WHEN balance IS NULL THEN 1 ELSE 0 END) AS missing_balance', 'SUM(CASE WHEN products_number IS NULL THEN 1 ELSE 0 END) AS missing_products_number', 'SUM(CASE WHEN credit_card IS NULL THEN 1 ELSE 0 END) AS missing_credit_card', 'SUM(CASE WHEN active_member IS NULL THEN 1 ELSE 0 END) AS missing_active_member', 'SUM(CASE WHEN estimated_salary IS NULL THEN 1 ELSE 0 END) AS missing_estimated_salary', 'SUM(CASE WHEN churn IS NULL THEN 1 ELSE 0 END) AS missing_churn']\n"
     ]
    }
   ],
   "source": [
    "select_expression = [f\"SUM(CASE WHEN {col} IS NULL THEN 1 ELSE 0 END) AS missing_{col}\" for col in columns]\n",
    "print(select_expression)"
   ]
  },
  {
   "cell_type": "markdown",
   "metadata": {},
   "source": [
    "now that we have each of the lines for the query, we can join them together as follows:"
   ]
  },
  {
   "cell_type": "code",
   "execution_count": 20,
   "metadata": {},
   "outputs": [
    {
     "name": "stdout",
     "output_type": "stream",
     "text": [
      "\n",
      "SELECT\n",
      "    SUM(CASE WHEN credit_score IS NULL THEN 1 ELSE 0 END) AS missing_credit_score, SUM(CASE WHEN country IS NULL THEN 1 ELSE 0 END) AS missing_country, SUM(CASE WHEN gender IS NULL THEN 1 ELSE 0 END) AS missing_gender, SUM(CASE WHEN age IS NULL THEN 1 ELSE 0 END) AS missing_age, SUM(CASE WHEN tenure IS NULL THEN 1 ELSE 0 END) AS missing_tenure, SUM(CASE WHEN balance IS NULL THEN 1 ELSE 0 END) AS missing_balance, SUM(CASE WHEN products_number IS NULL THEN 1 ELSE 0 END) AS missing_products_number, SUM(CASE WHEN credit_card IS NULL THEN 1 ELSE 0 END) AS missing_credit_card, SUM(CASE WHEN active_member IS NULL THEN 1 ELSE 0 END) AS missing_active_member, SUM(CASE WHEN estimated_salary IS NULL THEN 1 ELSE 0 END) AS missing_estimated_salary, SUM(CASE WHEN churn IS NULL THEN 1 ELSE 0 END) AS missing_churn\n",
      "FROM\n",
      "    `kagglebigquerybankchurn.churn_analysis.Kaggle_churn`\n",
      "\n"
     ]
    }
   ],
   "source": [
    "missing_values_query_python =  f\"\"\"\n",
    "SELECT\n",
    "    {', '.join(select_expression)}\n",
    "FROM\n",
    "    `{full_table_id}`\n",
    "\"\"\"\n",
    "print(missing_values_query_python)"
   ]
  },
  {
   "cell_type": "markdown",
   "metadata": {},
   "source": [
    "Now let's run both queries, `missing_values_query` and `missing_values_query_python`, to see if they yield the same results:"
   ]
  },
  {
   "cell_type": "markdown",
   "metadata": {},
   "source": [
    "* First the query we wrote manually: "
   ]
  },
  {
   "cell_type": "code",
   "execution_count": 21,
   "metadata": {},
   "outputs": [
    {
     "data": {
      "application/vnd.microsoft.datawrangler.viewer.v0+json": {
       "columns": [
        {
         "name": "index",
         "rawType": "int64",
         "type": "integer"
        },
        {
         "name": "missing_credit_score",
         "rawType": "Int64",
         "type": "integer"
        },
        {
         "name": "missing_country",
         "rawType": "Int64",
         "type": "integer"
        },
        {
         "name": "missing_gender",
         "rawType": "Int64",
         "type": "integer"
        },
        {
         "name": "missing_age",
         "rawType": "Int64",
         "type": "integer"
        },
        {
         "name": "missing_tenure",
         "rawType": "Int64",
         "type": "integer"
        },
        {
         "name": "missing_balance",
         "rawType": "Int64",
         "type": "integer"
        },
        {
         "name": "missing_products_number",
         "rawType": "Int64",
         "type": "integer"
        },
        {
         "name": "missing_credit_card",
         "rawType": "Int64",
         "type": "integer"
        },
        {
         "name": "missing_active_member",
         "rawType": "Int64",
         "type": "integer"
        },
        {
         "name": "missing_estimated_salary",
         "rawType": "Int64",
         "type": "integer"
        },
        {
         "name": "missing_churn",
         "rawType": "Int64",
         "type": "integer"
        }
       ],
       "ref": "004f337a-a338-4281-9cfa-04bcde8a352a",
       "rows": [
        [
         "0",
         "0",
         "0",
         "0",
         "0",
         "0",
         "0",
         "0",
         "0",
         "0",
         "0",
         "0"
        ]
       ],
       "shape": {
        "columns": 11,
        "rows": 1
       }
      },
      "text/html": [
       "<div>\n",
       "<style scoped>\n",
       "    .dataframe tbody tr th:only-of-type {\n",
       "        vertical-align: middle;\n",
       "    }\n",
       "\n",
       "    .dataframe tbody tr th {\n",
       "        vertical-align: top;\n",
       "    }\n",
       "\n",
       "    .dataframe thead th {\n",
       "        text-align: right;\n",
       "    }\n",
       "</style>\n",
       "<table border=\"1\" class=\"dataframe\">\n",
       "  <thead>\n",
       "    <tr style=\"text-align: right;\">\n",
       "      <th></th>\n",
       "      <th>missing_credit_score</th>\n",
       "      <th>missing_country</th>\n",
       "      <th>missing_gender</th>\n",
       "      <th>missing_age</th>\n",
       "      <th>missing_tenure</th>\n",
       "      <th>missing_balance</th>\n",
       "      <th>missing_products_number</th>\n",
       "      <th>missing_credit_card</th>\n",
       "      <th>missing_active_member</th>\n",
       "      <th>missing_estimated_salary</th>\n",
       "      <th>missing_churn</th>\n",
       "    </tr>\n",
       "  </thead>\n",
       "  <tbody>\n",
       "    <tr>\n",
       "      <th>0</th>\n",
       "      <td>0</td>\n",
       "      <td>0</td>\n",
       "      <td>0</td>\n",
       "      <td>0</td>\n",
       "      <td>0</td>\n",
       "      <td>0</td>\n",
       "      <td>0</td>\n",
       "      <td>0</td>\n",
       "      <td>0</td>\n",
       "      <td>0</td>\n",
       "      <td>0</td>\n",
       "    </tr>\n",
       "  </tbody>\n",
       "</table>\n",
       "</div>"
      ],
      "text/plain": [
       "   missing_credit_score  missing_country  missing_gender  missing_age  \\\n",
       "0                     0                0               0            0   \n",
       "\n",
       "   missing_tenure  missing_balance  missing_products_number  \\\n",
       "0               0                0                        0   \n",
       "\n",
       "   missing_credit_card  missing_active_member  missing_estimated_salary  \\\n",
       "0                    0                      0                         0   \n",
       "\n",
       "   missing_churn  \n",
       "0              0  "
      ]
     },
     "metadata": {},
     "output_type": "display_data"
    }
   ],
   "source": [
    "hardcoded_job = client.query(missing_values_query)\n",
    "hardcoded_result = hardcoded_job.to_dataframe()\n",
    "display(hardcoded_result)"
   ]
  },
  {
   "cell_type": "markdown",
   "metadata": {},
   "source": [
    "* and now the query generated with python:"
   ]
  },
  {
   "cell_type": "code",
   "execution_count": 22,
   "metadata": {},
   "outputs": [
    {
     "data": {
      "application/vnd.microsoft.datawrangler.viewer.v0+json": {
       "columns": [
        {
         "name": "index",
         "rawType": "int64",
         "type": "integer"
        },
        {
         "name": "missing_credit_score",
         "rawType": "Int64",
         "type": "integer"
        },
        {
         "name": "missing_country",
         "rawType": "Int64",
         "type": "integer"
        },
        {
         "name": "missing_gender",
         "rawType": "Int64",
         "type": "integer"
        },
        {
         "name": "missing_age",
         "rawType": "Int64",
         "type": "integer"
        },
        {
         "name": "missing_tenure",
         "rawType": "Int64",
         "type": "integer"
        },
        {
         "name": "missing_balance",
         "rawType": "Int64",
         "type": "integer"
        },
        {
         "name": "missing_products_number",
         "rawType": "Int64",
         "type": "integer"
        },
        {
         "name": "missing_credit_card",
         "rawType": "Int64",
         "type": "integer"
        },
        {
         "name": "missing_active_member",
         "rawType": "Int64",
         "type": "integer"
        },
        {
         "name": "missing_estimated_salary",
         "rawType": "Int64",
         "type": "integer"
        },
        {
         "name": "missing_churn",
         "rawType": "Int64",
         "type": "integer"
        }
       ],
       "ref": "c93c9984-ca01-4c4e-a6b9-e11e78e82fef",
       "rows": [
        [
         "0",
         "0",
         "0",
         "0",
         "0",
         "0",
         "0",
         "0",
         "0",
         "0",
         "0",
         "0"
        ]
       ],
       "shape": {
        "columns": 11,
        "rows": 1
       }
      },
      "text/html": [
       "<div>\n",
       "<style scoped>\n",
       "    .dataframe tbody tr th:only-of-type {\n",
       "        vertical-align: middle;\n",
       "    }\n",
       "\n",
       "    .dataframe tbody tr th {\n",
       "        vertical-align: top;\n",
       "    }\n",
       "\n",
       "    .dataframe thead th {\n",
       "        text-align: right;\n",
       "    }\n",
       "</style>\n",
       "<table border=\"1\" class=\"dataframe\">\n",
       "  <thead>\n",
       "    <tr style=\"text-align: right;\">\n",
       "      <th></th>\n",
       "      <th>missing_credit_score</th>\n",
       "      <th>missing_country</th>\n",
       "      <th>missing_gender</th>\n",
       "      <th>missing_age</th>\n",
       "      <th>missing_tenure</th>\n",
       "      <th>missing_balance</th>\n",
       "      <th>missing_products_number</th>\n",
       "      <th>missing_credit_card</th>\n",
       "      <th>missing_active_member</th>\n",
       "      <th>missing_estimated_salary</th>\n",
       "      <th>missing_churn</th>\n",
       "    </tr>\n",
       "  </thead>\n",
       "  <tbody>\n",
       "    <tr>\n",
       "      <th>0</th>\n",
       "      <td>0</td>\n",
       "      <td>0</td>\n",
       "      <td>0</td>\n",
       "      <td>0</td>\n",
       "      <td>0</td>\n",
       "      <td>0</td>\n",
       "      <td>0</td>\n",
       "      <td>0</td>\n",
       "      <td>0</td>\n",
       "      <td>0</td>\n",
       "      <td>0</td>\n",
       "    </tr>\n",
       "  </tbody>\n",
       "</table>\n",
       "</div>"
      ],
      "text/plain": [
       "   missing_credit_score  missing_country  missing_gender  missing_age  \\\n",
       "0                     0                0               0            0   \n",
       "\n",
       "   missing_tenure  missing_balance  missing_products_number  \\\n",
       "0               0                0                        0   \n",
       "\n",
       "   missing_credit_card  missing_active_member  missing_estimated_salary  \\\n",
       "0                    0                      0                         0   \n",
       "\n",
       "   missing_churn  \n",
       "0              0  "
      ]
     },
     "metadata": {},
     "output_type": "display_data"
    }
   ],
   "source": [
    "python_job = client.query(missing_values_query_python)\n",
    "python_result = python_job.to_dataframe()\n",
    "display(python_result) "
   ]
  },
  {
   "cell_type": "markdown",
   "metadata": {},
   "source": [
    "Great! we can visually confirm that tere is no missing values in this dataset. if this process were to be automated, this visual inspection would not be enough. thankfully python allows us to compare the results of both queries, and check if they are equal:"
   ]
  },
  {
   "cell_type": "code",
   "execution_count": 23,
   "metadata": {},
   "outputs": [
    {
     "name": "stdout",
     "output_type": "stream",
     "text": [
      "do both queries give the same result:? True\n"
     ]
    }
   ],
   "source": [
    "comparison = hardcoded_result.equals(python_result)\n",
    "print(f\"do both queries give the same result:? {comparison}\")"
   ]
  },
  {
   "cell_type": "markdown",
   "metadata": {},
   "source": [
    "that's great, missing values is one of the first data integrity checks that should be done and now we have done it.\n",
    "\n",
    "## Checking for duplicates in SQL\n",
    "\n",
    "SQL makes it easy to check for duplicates as follows:"
   ]
  },
  {
   "cell_type": "code",
   "execution_count": 24,
   "metadata": {},
   "outputs": [
    {
     "name": "stdout",
     "output_type": "stream",
     "text": [
      "Number of duplicate rows: 0\n"
     ]
    }
   ],
   "source": [
    "duplicates_query = \"\"\"\n",
    "\n",
    "SELECT customer_id, COUNT(*) AS count\n",
    "FROM `kagglebigquerybankchurn.churn_analysis.Kaggle_churn`\n",
    "GROUP BY customer_id\n",
    "HAVING count > 1; \n",
    "\"\"\"\n",
    "\n",
    "duplicates_job = client.query(duplicates_query)\n",
    "duplicates_result = duplicates_job.to_dataframe()\n",
    "print(f\"Number of duplicate rows: {len(duplicates_result)}\")\n"
   ]
  },
  {
   "cell_type": "markdown",
   "metadata": {},
   "source": [
    "### Checking for Complete Duplicate Rows (All Fields)\n",
    "\n",
    "The previous query only checked for duplicate customer IDs. But we need to verify if rows with duplicate customer IDs also have identical content across ALL fields. Let's check this:"
   ]
  },
  {
   "cell_type": "code",
   "execution_count": 25,
   "metadata": {},
   "outputs": [
    {
     "name": "stdout",
     "output_type": "stream",
     "text": [
      "Number of unique row combinations that appear more than once: 0\n",
      "Total duplicate rows (sum of all duplicates): 0\n"
     ]
    }
   ],
   "source": [
    "# SQL query to check for complete duplicate rows (all fields identical)\n",
    "complete_duplicates_query = \"\"\"\n",
    "SELECT \n",
    "    customer_id, credit_score, country, gender, age, tenure, balance, \n",
    "    products_number, credit_card, active_member, estimated_salary, churn,\n",
    "    COUNT(*) as duplicate_count\n",
    "FROM `kagglebigquerybankchurn.churn_analysis.Kaggle_churn`\n",
    "GROUP BY \n",
    "    customer_id, credit_score, country, gender, age, tenure, balance, \n",
    "    products_number, credit_card, active_member, estimated_salary, churn\n",
    "HAVING COUNT(*) > 1\n",
    "ORDER BY duplicate_count DESC\n",
    "\"\"\"\n",
    "\n",
    "complete_duplicates_job = client.query(complete_duplicates_query)\n",
    "complete_duplicates_result = complete_duplicates_job.to_dataframe()\n",
    "\n",
    "print(f\"Number of unique row combinations that appear more than once: {len(complete_duplicates_result)}\")\n",
    "print(f\"Total duplicate rows (sum of all duplicates): {complete_duplicates_result['duplicate_count'].sum()}\")\n",
    "\n",
    "# Show first few examples\n",
    "if len(complete_duplicates_result) > 0:\n",
    "    print(\"\\nFirst 5 complete duplicate row combinations:\")\n",
    "    display(complete_duplicates_result.head())"
   ]
  },
  {
   "cell_type": "markdown",
   "metadata": {},
   "source": [
    "the above code identified that there is 10000 customer ids that appear more than once."
   ]
  },
  {
   "cell_type": "code",
   "execution_count": 26,
   "metadata": {},
   "outputs": [
    {
     "name": "stdout",
     "output_type": "stream",
     "text": [
      "=== COMPARISON ===\n",
      "Customer IDs with duplicates: 0\n",
      "Complete duplicate row combinations: 0\n",
      "✅ All duplicate customer IDs have identical content across all fields!\n",
      "✅ Safe to remove duplicates - they are true duplicates\n"
     ]
    }
   ],
   "source": [
    "# Let's compare the results\n",
    "print(\"=== COMPARISON ===\")\n",
    "print(f\"Customer IDs with duplicates: {len(duplicates_result)}\")\n",
    "print(f\"Complete duplicate row combinations: {len(complete_duplicates_result)}\")\n",
    "\n",
    "# Check if they match\n",
    "if len(duplicates_result) == len(complete_duplicates_result):\n",
    "    print(\"✅ All duplicate customer IDs have identical content across all fields!\")\n",
    "    print(\"✅ Safe to remove duplicates - they are true duplicates\")\n",
    "else:\n",
    "    print(\"⚠️  Some customer IDs have different content - need to investigate further\")\n",
    "    print(\"⚠️  Cannot safely remove duplicates without further analysis\")"
   ]
  },
  {
   "cell_type": "markdown",
   "metadata": {},
   "source": [
    "now we can retrieve the complete dataset using the following query:\n",
    "\n"
   ]
  },
  {
   "cell_type": "code",
   "execution_count": 27,
   "metadata": {},
   "outputs": [],
   "source": [
    "df_query   = \"\"\"\n",
    "SELECT *\n",
    "FROM `kagglebigquerybankchurn.churn_analysis.Kaggle_churn`\n",
    "\"\"\"\n",
    "df_job = client.query(df_query)\n",
    "df = df_job.to_dataframe()"
   ]
  },
  {
   "cell_type": "markdown",
   "metadata": {},
   "source": [
    "### Python Duplicate Analysis\n",
    "\n",
    "Now let's perform the same duplicate analysis using Python with pandas to compare the power and ease of both approaches:"
   ]
  },
  {
   "cell_type": "code",
   "execution_count": 28,
   "metadata": {},
   "outputs": [
    {
     "name": "stdout",
     "output_type": "stream",
     "text": [
      "=== PYTHON DUPLICATE ANALYSIS ===\n",
      "Customer IDs with duplicates: 0\n",
      "Total rows that are complete duplicates: 0\n",
      "Unique combinations of complete duplicates: 0\n",
      "\n",
      "=== COMPARISON WITH SQL RESULTS ===\n",
      "SQL - Customer IDs with duplicates: 0\n",
      "Python - Customer IDs with duplicates: 0\n",
      "Match: ✅\n",
      "No complete duplicate rows found.\n"
     ]
    }
   ],
   "source": [
    "# Python duplicate analysis using the full dataset (df)\n",
    "print(\"=== PYTHON DUPLICATE ANALYSIS ===\")\n",
    "\n",
    "# 1. Check for duplicate customer IDs\n",
    "customer_id_duplicates = df.groupby('customer_id').size()\n",
    "customer_ids_with_duplicates = customer_id_duplicates[customer_id_duplicates > 1]\n",
    "\n",
    "print(f\"Customer IDs with duplicates: {len(customer_ids_with_duplicates)}\")\n",
    "\n",
    "# 2. Check for complete duplicate rows (all fields identical)\n",
    "complete_duplicates = df.duplicated(keep=False)  # keep=False marks all duplicates as True\n",
    "duplicate_rows = df[complete_duplicates]\n",
    "\n",
    "print(f\"Total rows that are complete duplicates: {complete_duplicates.sum()}\")\n",
    "print(f\"Unique combinations of complete duplicates: {len(df[df.duplicated(keep='first')])}\")\n",
    "\n",
    "# 3. Compare customer ID duplicates vs complete row duplicates\n",
    "print(\"\\n=== COMPARISON WITH SQL RESULTS ===\")\n",
    "print(f\"SQL - Customer IDs with duplicates: {len(duplicates_result)}\")\n",
    "print(f\"Python - Customer IDs with duplicates: {len(customer_ids_with_duplicates)}\")\n",
    "print(f\"Match: {'✅' if len(duplicates_result) == len(customer_ids_with_duplicates) else '❌'}\")\n",
    "\n",
    "# 4. Check if all customer ID duplicates are also complete row duplicates\n",
    "if complete_duplicates.sum() > 0:\n",
    "    # Group complete duplicates by customer_id to see the pattern\n",
    "    duplicate_customer_analysis = duplicate_rows.groupby('customer_id').size()\n",
    "    print(f\"\\nComplete duplicate rows grouped by customer_id:\")\n",
    "    print(f\"Number of customer IDs in complete duplicates: {len(duplicate_customer_analysis)}\")\n",
    "    \n",
    "    # Verify if duplicate customer IDs have identical content\n",
    "    if len(customer_ids_with_duplicates) == len(duplicate_customer_analysis):\n",
    "        print(\"✅ All duplicate customer IDs have identical content across all fields!\")\n",
    "        print(\"✅ Safe to remove duplicates using pandas.drop_duplicates()\")\n",
    "    else:\n",
    "        print(\"⚠️  Some customer IDs have different content - investigate further!\")\n",
    "else:\n",
    "    print(\"No complete duplicate rows found.\")"
   ]
  },
  {
   "cell_type": "markdown",
   "metadata": {},
   "source": [
    "### Removing Duplicates Safely\n",
    "\n",
    "If our analysis confirms that duplicate customer IDs have identical content across all fields, we can safely remove duplicates. Here's how to do it in both SQL and Python:"
   ]
  },
  {
   "cell_type": "code",
   "execution_count": 29,
   "metadata": {},
   "outputs": [
    {
     "name": "stdout",
     "output_type": "stream",
     "text": [
      "Original dataset size: 10000\n",
      "Deduplicated dataset size (SQL): 10000\n",
      "Rows removed: 0\n"
     ]
    }
   ],
   "source": [
    "# Method 1: SQL - Create a deduplicated dataset using ROW_NUMBER()\n",
    "dedup_sql_query = \"\"\"\n",
    "SELECT \n",
    "    customer_id, credit_score, country, gender, age, tenure, balance, \n",
    "    products_number, credit_card, active_member, estimated_salary, churn\n",
    "FROM (\n",
    "    SELECT *,\n",
    "        ROW_NUMBER() OVER (\n",
    "            PARTITION BY customer_id\n",
    "            ORDER BY customer_id\n",
    "        ) as row_num\n",
    "    FROM `kagglebigquerybankchurn.churn_analysis.Kaggle_churn`\n",
    ") \n",
    "WHERE row_num = 1\n",
    "\"\"\"\n",
    "\n",
    "# Execute the query to get deduplicated data\n",
    "dedup_sql_job = client.query(dedup_sql_query)\n",
    "dedup_sql_df = dedup_sql_job.to_dataframe()\n",
    "\n",
    "print(f\"Original dataset size: {len(df)}\")\n",
    "print(f\"Deduplicated dataset size (SQL): {len(dedup_sql_df)}\")\n",
    "print(f\"Rows removed: {len(df) - len(dedup_sql_df)}\")"
   ]
  },
  {
   "cell_type": "markdown",
   "metadata": {},
   "source": []
  },
  {
   "cell_type": "code",
   "execution_count": 29,
   "metadata": {},
   "outputs": [
    {
     "name": "stdout",
     "output_type": "stream",
     "text": [
      "\n",
      "Python deduplication:\n",
      "Original dataset size: 10000\n",
      "Deduplicated dataset size (Python): 10000\n",
      "Rows removed: 0\n",
      "\n",
      "Both methods give same result: ✅\n",
      "\n",
      "Final verification:\n",
      "Unique customer IDs in SQL deduplicated data: 10000\n",
      "Unique customer IDs in Python deduplicated data: 10000\n",
      "Total rows in deduplicated data: 10000\n",
      "✅ Perfect! Each customer ID now appears exactly once.\n"
     ]
    }
   ],
   "source": [
    "# Method 2: Python - Remove duplicates using pandas\n",
    "dedup_python_df = df.drop_duplicates()\n",
    "\n",
    "print(f\"\\nPython deduplication:\")\n",
    "print(f\"Original dataset size: {len(df)}\")\n",
    "print(f\"Deduplicated dataset size (Python): {len(dedup_python_df)}\")\n",
    "print(f\"Rows removed: {len(df) - len(dedup_python_df)}\")\n",
    "\n",
    "# Verify both methods give the same result\n",
    "print(f\"\\nBoth methods give same result: {'✅' if len(dedup_sql_df) == len(dedup_python_df) else '❌'}\")\n",
    "\n",
    "# Final verification - check unique customer IDs in deduplicated data\n",
    "print(f\"\\nFinal verification:\")\n",
    "print(f\"Unique customer IDs in SQL deduplicated data: {dedup_sql_df['customer_id'].nunique()}\")\n",
    "print(f\"Unique customer IDs in Python deduplicated data: {dedup_python_df['customer_id'].nunique()}\")\n",
    "print(f\"Total rows in deduplicated data: {len(dedup_python_df)}\")\n",
    "\n",
    "# If they match, we have successfully removed duplicates\n",
    "if dedup_python_df['customer_id'].nunique() == len(dedup_python_df):\n",
    "    print(\"✅ Perfect! Each customer ID now appears exactly once.\")\n",
    "else:\n",
    "    print(\"⚠️  Still some issues with the deduplication process.\")"
   ]
  },
  {
   "cell_type": "markdown",
   "metadata": {},
   "source": [
    "### Summary: SQL vs Python for Duplicate Handling\n",
    "\n",
    "#### **SQL Approach:**\n",
    "**Advantages:**\n",
    "- ✅ Handles large datasets efficiently (server-side processing)\n",
    "- ✅ Explicit control over duplicate detection logic\n",
    "- ✅ Can be integrated into ETL pipelines\n",
    "- ✅ Memory efficient for very large datasets\n",
    "\n",
    "**Disadvantages:**\n",
    "- ❌ More verbose syntax (need to specify all columns)\n",
    "- ❌ Less flexible for complex duplicate detection rules\n",
    "- ❌ Requires good understanding of window functions\n",
    "\n",
    "#### **Python/Pandas Approach:**\n",
    "**Advantages:**\n",
    "- ✅ Simple, concise syntax (`df.drop_duplicates()`)\n",
    "- ✅ Flexible - easy to specify subset of columns or custom logic\n",
    "- ✅ Integrated with data analysis workflow\n",
    "- ✅ Rich ecosystem for further data validation\n",
    "\n",
    "**Disadvantages:**\n",
    "- ❌ Memory intensive for very large datasets\n",
    "- ❌ Slower for massive datasets compared to SQL\n",
    "- ❌ Requires loading full dataset into memory\n",
    "\n",
    "#### **Best Practice Recommendation:**\n",
    "- Use **SQL** for initial data cleaning in production ETL pipelines\n",
    "- Use **Python** for exploratory analysis and validation\n",
    "- Always validate that both approaches give consistent results (as we did above)"
   ]
  },
  {
   "cell_type": "markdown",
   "metadata": {},
   "source": [
    "there is a hundred thousand total rows, and just ten thousand unique customer ids, that could mean that each customer id has 10 entries. "
   ]
  },
  {
   "cell_type": "markdown",
   "metadata": {},
   "source": [
    "## Exploratory data analysis in python\n",
    "\n",
    "now let's see how the variables are related to the churn rate. For that, we will create the main dataframe again, but will not limit the amount of rows to ten, this dataframe will be named `full_df`\n"
   ]
  },
  {
   "cell_type": "code",
   "execution_count": 30,
   "metadata": {},
   "outputs": [],
   "source": [
    "full_query = \"\"\"\n",
    "SELECT *\n",
    "FROM `kagglebigquerybankchurn.churn_analysis.Kaggle_churn`\n",
    "\"\"\"\n",
    "full_query_job = client.query(full_query)\n",
    "full_df = full_query_job.to_dataframe()\n"
   ]
  },
  {
   "cell_type": "markdown",
   "metadata": {},
   "source": [
    "let's really quick check if there are any missing values:"
   ]
  },
  {
   "cell_type": "code",
   "execution_count": 31,
   "metadata": {},
   "outputs": [
    {
     "data": {
      "application/vnd.microsoft.datawrangler.viewer.v0+json": {
       "columns": [
        {
         "name": "index",
         "rawType": "object",
         "type": "string"
        },
        {
         "name": "0",
         "rawType": "int64",
         "type": "integer"
        }
       ],
       "ref": "9733ea7c-8c8a-4c9d-9232-8e30baffca5b",
       "rows": [
        [
         "customer_id",
         "0"
        ],
        [
         "credit_score",
         "0"
        ],
        [
         "country",
         "0"
        ],
        [
         "gender",
         "0"
        ],
        [
         "age",
         "0"
        ],
        [
         "tenure",
         "0"
        ],
        [
         "balance",
         "0"
        ],
        [
         "products_number",
         "0"
        ],
        [
         "credit_card",
         "0"
        ],
        [
         "active_member",
         "0"
        ],
        [
         "estimated_salary",
         "0"
        ],
        [
         "churn",
         "0"
        ]
       ],
       "shape": {
        "columns": 1,
        "rows": 12
       }
      },
      "text/plain": [
       "customer_id         0\n",
       "credit_score        0\n",
       "country             0\n",
       "gender              0\n",
       "age                 0\n",
       "tenure              0\n",
       "balance             0\n",
       "products_number     0\n",
       "credit_card         0\n",
       "active_member       0\n",
       "estimated_salary    0\n",
       "churn               0\n",
       "dtype: int64"
      ]
     },
     "execution_count": 31,
     "metadata": {},
     "output_type": "execute_result"
    }
   ],
   "source": [
    "full_df.isna().sum()"
   ]
  },
  {
   "cell_type": "markdown",
   "metadata": {},
   "source": [
    "Now we can check information about the variables with the `.info` and `.describe` functions as follows:"
   ]
  },
  {
   "cell_type": "code",
   "execution_count": 32,
   "metadata": {},
   "outputs": [
    {
     "data": {
      "application/vnd.microsoft.datawrangler.viewer.v0+json": {
       "columns": [
        {
         "name": "index",
         "rawType": "object",
         "type": "string"
        },
        {
         "name": "customer_id",
         "rawType": "Float64",
         "type": "float"
        },
        {
         "name": "credit_score",
         "rawType": "Float64",
         "type": "float"
        },
        {
         "name": "age",
         "rawType": "Float64",
         "type": "float"
        },
        {
         "name": "tenure",
         "rawType": "Float64",
         "type": "float"
        },
        {
         "name": "balance",
         "rawType": "float64",
         "type": "float"
        },
        {
         "name": "products_number",
         "rawType": "Float64",
         "type": "float"
        },
        {
         "name": "credit_card",
         "rawType": "Float64",
         "type": "float"
        },
        {
         "name": "active_member",
         "rawType": "Float64",
         "type": "float"
        },
        {
         "name": "estimated_salary",
         "rawType": "float64",
         "type": "float"
        },
        {
         "name": "churn",
         "rawType": "Float64",
         "type": "float"
        }
       ],
       "ref": "d0d5c7ac-62f4-4e79-a473-64c6649e61e0",
       "rows": [
        [
         "count",
         "10000.0",
         "10000.0",
         "10000.0",
         "10000.0",
         "10000.0",
         "10000.0",
         "10000.0",
         "10000.0",
         "10000.0",
         "10000.0"
        ],
        [
         "mean",
         "15690940.5694",
         "650.5288",
         "38.9218",
         "5.0128",
         "76485.889288",
         "1.5302",
         "0.7055",
         "0.5151",
         "100090.239881",
         "0.2037"
        ],
        [
         "std",
         "71936.1861227489",
         "96.65329873613037",
         "10.487806451704609",
         "2.8921743770496837",
         "62397.40520238596",
         "0.5816543579989906",
         "0.4558404644751334",
         "0.49979692845891893",
         "57510.49281769816",
         "0.40276858399486093"
        ],
        [
         "min",
         "15565701.0",
         "350.0",
         "18.0",
         "0.0",
         "0.0",
         "1.0",
         "0.0",
         "0.0",
         "11.58",
         "0.0"
        ],
        [
         "25%",
         "15628528.25",
         "584.0",
         "32.0",
         "3.0",
         "0.0",
         "1.0",
         "0.0",
         "0.0",
         "51002.11",
         "0.0"
        ],
        [
         "50%",
         "15690738.0",
         "652.0",
         "37.0",
         "5.0",
         "97198.54000000001",
         "1.0",
         "1.0",
         "1.0",
         "100193.915",
         "0.0"
        ],
        [
         "75%",
         "15753233.75",
         "718.0",
         "44.0",
         "7.0",
         "127644.24",
         "2.0",
         "1.0",
         "1.0",
         "149388.2475",
         "0.0"
        ],
        [
         "max",
         "15815690.0",
         "850.0",
         "92.0",
         "10.0",
         "250898.09",
         "4.0",
         "1.0",
         "1.0",
         "199992.48",
         "1.0"
        ]
       ],
       "shape": {
        "columns": 10,
        "rows": 8
       }
      },
      "text/html": [
       "<div>\n",
       "<style scoped>\n",
       "    .dataframe tbody tr th:only-of-type {\n",
       "        vertical-align: middle;\n",
       "    }\n",
       "\n",
       "    .dataframe tbody tr th {\n",
       "        vertical-align: top;\n",
       "    }\n",
       "\n",
       "    .dataframe thead th {\n",
       "        text-align: right;\n",
       "    }\n",
       "</style>\n",
       "<table border=\"1\" class=\"dataframe\">\n",
       "  <thead>\n",
       "    <tr style=\"text-align: right;\">\n",
       "      <th></th>\n",
       "      <th>customer_id</th>\n",
       "      <th>credit_score</th>\n",
       "      <th>age</th>\n",
       "      <th>tenure</th>\n",
       "      <th>balance</th>\n",
       "      <th>products_number</th>\n",
       "      <th>credit_card</th>\n",
       "      <th>active_member</th>\n",
       "      <th>estimated_salary</th>\n",
       "      <th>churn</th>\n",
       "    </tr>\n",
       "  </thead>\n",
       "  <tbody>\n",
       "    <tr>\n",
       "      <th>count</th>\n",
       "      <td>10000.0</td>\n",
       "      <td>10000.0</td>\n",
       "      <td>10000.0</td>\n",
       "      <td>10000.0</td>\n",
       "      <td>10000.000000</td>\n",
       "      <td>10000.0</td>\n",
       "      <td>10000.0</td>\n",
       "      <td>10000.0</td>\n",
       "      <td>10000.000000</td>\n",
       "      <td>10000.0</td>\n",
       "    </tr>\n",
       "    <tr>\n",
       "      <th>mean</th>\n",
       "      <td>15690940.5694</td>\n",
       "      <td>650.5288</td>\n",
       "      <td>38.9218</td>\n",
       "      <td>5.0128</td>\n",
       "      <td>76485.889288</td>\n",
       "      <td>1.5302</td>\n",
       "      <td>0.7055</td>\n",
       "      <td>0.5151</td>\n",
       "      <td>100090.239881</td>\n",
       "      <td>0.2037</td>\n",
       "    </tr>\n",
       "    <tr>\n",
       "      <th>std</th>\n",
       "      <td>71936.186123</td>\n",
       "      <td>96.653299</td>\n",
       "      <td>10.487806</td>\n",
       "      <td>2.892174</td>\n",
       "      <td>62397.405202</td>\n",
       "      <td>0.581654</td>\n",
       "      <td>0.45584</td>\n",
       "      <td>0.499797</td>\n",
       "      <td>57510.492818</td>\n",
       "      <td>0.402769</td>\n",
       "    </tr>\n",
       "    <tr>\n",
       "      <th>min</th>\n",
       "      <td>15565701.0</td>\n",
       "      <td>350.0</td>\n",
       "      <td>18.0</td>\n",
       "      <td>0.0</td>\n",
       "      <td>0.000000</td>\n",
       "      <td>1.0</td>\n",
       "      <td>0.0</td>\n",
       "      <td>0.0</td>\n",
       "      <td>11.580000</td>\n",
       "      <td>0.0</td>\n",
       "    </tr>\n",
       "    <tr>\n",
       "      <th>25%</th>\n",
       "      <td>15628528.25</td>\n",
       "      <td>584.0</td>\n",
       "      <td>32.0</td>\n",
       "      <td>3.0</td>\n",
       "      <td>0.000000</td>\n",
       "      <td>1.0</td>\n",
       "      <td>0.0</td>\n",
       "      <td>0.0</td>\n",
       "      <td>51002.110000</td>\n",
       "      <td>0.0</td>\n",
       "    </tr>\n",
       "    <tr>\n",
       "      <th>50%</th>\n",
       "      <td>15690738.0</td>\n",
       "      <td>652.0</td>\n",
       "      <td>37.0</td>\n",
       "      <td>5.0</td>\n",
       "      <td>97198.540000</td>\n",
       "      <td>1.0</td>\n",
       "      <td>1.0</td>\n",
       "      <td>1.0</td>\n",
       "      <td>100193.915000</td>\n",
       "      <td>0.0</td>\n",
       "    </tr>\n",
       "    <tr>\n",
       "      <th>75%</th>\n",
       "      <td>15753233.75</td>\n",
       "      <td>718.0</td>\n",
       "      <td>44.0</td>\n",
       "      <td>7.0</td>\n",
       "      <td>127644.240000</td>\n",
       "      <td>2.0</td>\n",
       "      <td>1.0</td>\n",
       "      <td>1.0</td>\n",
       "      <td>149388.247500</td>\n",
       "      <td>0.0</td>\n",
       "    </tr>\n",
       "    <tr>\n",
       "      <th>max</th>\n",
       "      <td>15815690.0</td>\n",
       "      <td>850.0</td>\n",
       "      <td>92.0</td>\n",
       "      <td>10.0</td>\n",
       "      <td>250898.090000</td>\n",
       "      <td>4.0</td>\n",
       "      <td>1.0</td>\n",
       "      <td>1.0</td>\n",
       "      <td>199992.480000</td>\n",
       "      <td>1.0</td>\n",
       "    </tr>\n",
       "  </tbody>\n",
       "</table>\n",
       "</div>"
      ],
      "text/plain": [
       "         customer_id  credit_score        age    tenure        balance  \\\n",
       "count        10000.0       10000.0    10000.0   10000.0   10000.000000   \n",
       "mean   15690940.5694      650.5288    38.9218    5.0128   76485.889288   \n",
       "std     71936.186123     96.653299  10.487806  2.892174   62397.405202   \n",
       "min       15565701.0         350.0       18.0       0.0       0.000000   \n",
       "25%      15628528.25         584.0       32.0       3.0       0.000000   \n",
       "50%       15690738.0         652.0       37.0       5.0   97198.540000   \n",
       "75%      15753233.75         718.0       44.0       7.0  127644.240000   \n",
       "max       15815690.0         850.0       92.0      10.0  250898.090000   \n",
       "\n",
       "       products_number  credit_card  active_member  estimated_salary     churn  \n",
       "count          10000.0      10000.0        10000.0      10000.000000   10000.0  \n",
       "mean            1.5302       0.7055         0.5151     100090.239881    0.2037  \n",
       "std           0.581654      0.45584       0.499797      57510.492818  0.402769  \n",
       "min                1.0          0.0            0.0         11.580000       0.0  \n",
       "25%                1.0          0.0            0.0      51002.110000       0.0  \n",
       "50%                1.0          1.0            1.0     100193.915000       0.0  \n",
       "75%                2.0          1.0            1.0     149388.247500       0.0  \n",
       "max                4.0          1.0            1.0     199992.480000       1.0  "
      ]
     },
     "execution_count": 32,
     "metadata": {},
     "output_type": "execute_result"
    }
   ],
   "source": [
    "full_df.describe()\n"
   ]
  },
  {
   "cell_type": "markdown",
   "metadata": {},
   "source": [
    "Thanks to this summary table, we can identify that there is two groups of variables:\n",
    "\n",
    "### Continuous variables:\n",
    "- Credit_score\n",
    "- Age\n",
    "- Estimated_salary\n",
    "- Balance\n",
    "\n",
    "Let's examine these variables further by visualizing their distributions:"
   ]
  },
  {
   "cell_type": "code",
   "execution_count": 33,
   "metadata": {},
   "outputs": [
    {
     "ename": "ModuleNotFoundError",
     "evalue": "No module named 'matplotlib'",
     "output_type": "error",
     "traceback": [
      "\u001b[31m---------------------------------------------------------------------------\u001b[39m",
      "\u001b[31mModuleNotFoundError\u001b[39m                       Traceback (most recent call last)",
      "\u001b[36mCell\u001b[39m\u001b[36m \u001b[39m\u001b[32mIn[33]\u001b[39m\u001b[32m, line 2\u001b[39m\n\u001b[32m      1\u001b[39m \u001b[38;5;66;03m# setting the canvas for four plots (2 rows, 4 columns)\u001b[39;00m\n\u001b[32m----> \u001b[39m\u001b[32m2\u001b[39m \u001b[38;5;28;01mimport\u001b[39;00m\u001b[38;5;250m \u001b[39m\u001b[34;01mmatplotlib\u001b[39;00m\u001b[34;01m.\u001b[39;00m\u001b[34;01mpyplot\u001b[39;00m\u001b[38;5;250m \u001b[39m\u001b[38;5;28;01mas\u001b[39;00m\u001b[38;5;250m \u001b[39m\u001b[34;01mplt\u001b[39;00m\n\u001b[32m      3\u001b[39m \u001b[38;5;28;01mimport\u001b[39;00m\u001b[38;5;250m \u001b[39m\u001b[34;01mseaborn\u001b[39;00m\u001b[38;5;250m \u001b[39m\u001b[38;5;28;01mas\u001b[39;00m\u001b[38;5;250m \u001b[39m\u001b[34;01msns\u001b[39;00m\n\u001b[32m      5\u001b[39m \u001b[38;5;66;03m# Set up a larger figure with a grid of 4x2 subplots\u001b[39;00m\n",
      "\u001b[31mModuleNotFoundError\u001b[39m: No module named 'matplotlib'"
     ]
    }
   ],
   "source": [
    "# setting the canvas for four plots (2 rows, 4 columns)\n",
    "import matplotlib.pyplot as plt\n",
    "import seaborn as sns\n",
    "\n",
    "# Set up a larger figure with a grid of 4x2 subplots\n",
    "fig = plt.figure(figsize=(20, 12))\n",
    "gs = fig.add_gridspec(4, 2, height_ratios=[3, 1, 3, 1])\n",
    "\n",
    "# Set the figure title\n",
    "fig.suptitle('Continuous Variables Distributions', fontsize=20, y=0.95)\n",
    "\n",
    "# Define variables and titles for the plots\n",
    "variables = ['credit_score', 'age', 'estimated_salary', 'balance']\n",
    "titles = ['Credit Score Distribution', 'Age Distribution', 'Estimated Salary Distribution', 'Balance Distribution']\n",
    "\n",
    "# Loop through variables and plot\n",
    "for i, (var, title) in enumerate(zip(variables, titles)):\n",
    "    # Histogram\n",
    "    ax_hist = fig.add_subplot(gs[i // 2 * 2, i % 2])\n",
    "    sns.histplot(data=full_df, x=var, kde=True, ax=ax_hist)\n",
    "    ax_hist.set_title(title)\n",
    "    \n",
    "    # Boxplot\n",
    "    ax_box = fig.add_subplot(gs[i // 2 * 2 + 1, i % 2])\n",
    "    sns.boxplot(data=full_df, x=var, color='orange', ax=ax_box)\n",
    "    ax_box.set_title('')\n",
    "\n",
    "# Adjust layout to prevent overlap\n",
    "plt.tight_layout(rect=[0, 0, 1, 0.95])\n",
    "\n",
    "# Show the plots\n",
    "plt.show()\n"
   ]
  },
  {
   "cell_type": "markdown",
   "metadata": {},
   "source": [
    "Thanks to these visualizations we can comment some things about these four continuous variables, to consider in the modelling stage:\n",
    "\n",
    "1. **Credit Score**\n",
    "    - Is normally distributed, good for modelling, and also complies with the assumptions of most statistical tests.\n",
    "    - Supports the assumptions of most hypothesis tests (that's great, just What I Learned in the regression course of the *Google Advanced Data Analytics Professional Certificate*).\n",
    "\n",
    "    **References**:\n",
    "    - Hosmer Jr, D. W., et al. (2013). [\"Applied Logistic Regression\"](https://books.google.com.co/books?hl=en&lr=&id=bRoxQBIZRd4C&oi=fnd&pg=PR13&dq=Hosmer+Jr,+D.+W.,+et+al.+(2013).+%22Applied+Logistic+Regression%22+-+Discusses+normality+assumptions&ots=kM4Otl6Sb5&sig=9Q0GI1KojiWmqTd861azWkxeWm8&redir_esc=y#v=onepage&q&f=false) - Discusses normality assumptions.\n",
    "    - Altman, N., & Krzywinski, M. (2016). [\"Points of Significance: Analyzing outliers\"](https://go.gale.com/ps/i.do?id=GALE%7CA461963379&sid=googleScholar&v=2.1&it=r&linkaccess=abs&issn=15487091&p=AONE&sw=w&userGroupName=anon%7E5d49140c&aty=open-web-entry) Nature Methods.\n",
    "\n",
    "2. **Age (normal with a right tail)**\n",
    "    - Age distributions are commonly found to have a right-skewed distribution (this makes sense to me because older people tend to die and then the amount of older people decreases).\n",
    "    - May require log transformation for a linear model.\n",
    "\n",
    "    **References**:\n",
    "    - Cox, D. R., & Snell, E. J. (1989). [\"Analysis of Binary Data\"](https://www.taylorfrancis.com/books/mono/10.1201/9781315137391/analysis-binary-data-cox) (2nd ed.). Chapman and Hall/CRC.\n",
    "    - Faraway, J. J. (2016). [\"Extending the Linear Model with R\"](https://www.google.com.co/books/edition/Extending_the_Linear_Model_with_R/XAzYCwAAQBAJ?hl=en&gbpv=1&dq=Faraway,+J.+J.+(2016).+%22Extending+the+Linear+Model+with+R%22+(2nd+ed.),+Chapman+and+Hall/CRC&pg=PR2&printsec=frontcover) (2nd ed.), Chapman and Hall/CRC.\n",
    "\n",
    "3. **Estimated Salary (Uniform)**\n",
    "    - Uniform distribution. This is weird for me, and checking in literature uniform distributions indeed are due to:\n",
    "        - Data preprocessing/binning could work to enhance its usability.\n",
    "        - Potential sampling bias.\n",
    "\n",
    "    **References**:\n",
    "    - Cohen, J., et al. (2003). \"Applied Multiple Regression/Correlation Analysis.\"\n",
    "    - Friedman, J., et al. (2001). \"The Elements of Statistical Learning\" - Discussion of feature distributions.\n",
    "\n",
    "4. **Balance (Normal, with many values around zero)**\n",
    "    - Well, it seems like in financial data this is normal, and I understand, many people will have accounts with zero balance.\n",
    "    - Statistical implications:\n",
    "        - Need for specialized modeling approaches.\n",
    "        - Consider two-part models (zero vs non-zero).\n",
    "        - May require transformation for non-zero values.\n",
    "\n",
    "    **References**:\n",
    "\n",
    "    - Min, Y., & Agresti, A. (2002). \"Modeling nonnegative data with clumping at zero: A survey.\" Journal of the Iranian Statistical Society, 1(1-2), 7-33.\n",
    "\n",
    "\n",
    "    - Fletcher, D., & Dixon, P. M. (2012). \"Modelling data with excess zeros and measurement error: Application to evaluating relationships between abundances of multiple species.\" Biometrics, 68(1), 270-278.\n",
    "\n",
    "\n",
    "    - Tu, W. (2006). \"Zero-Inflated Data.\" Encyclopedia of Environmetrics, 6.\n",
    "\n",
    "\n"
   ]
  },
  {
   "cell_type": "markdown",
   "metadata": {},
   "source": [
    "As a summary, what we can do with these variables is: \n",
    "- **Credit Score:** Use as-is in logistic regression\n",
    "- **Age:** Consider log transformation\n",
    "- **Salary:** Consider binning or categorical transformation\n",
    "- **Balance:** Create binary flag for zero values"
   ]
  },
  {
   "cell_type": "markdown",
   "metadata": {},
   "source": [
    "Before we move on to categorical variables, I want to see how the dependent variable, churn, is related to these four variables in a similar fashion, son now we will again draw four plots in the same canvas, but this time the will be scatter plots instead of histograms, keeping the boxplot of the independent variable at the bottom:"
   ]
  },
  {
   "cell_type": "code",
   "execution_count": null,
   "metadata": {},
   "outputs": [],
   "source": [
    "# setting the canvas for four plots (2 rows, 4 columns)\n",
    "import matplotlib.pyplot as plt\n",
    "import seaborn as sns\n",
    "\n",
    "# Set up a larger figure with a grid of 4x2 subplots\n",
    "fig = plt.figure(figsize=(20, 12))\n",
    "gs = fig.add_gridspec(4, 2, height_ratios=[3, 1, 3, 1])\n",
    "\n",
    "# Set the figure title\n",
    "fig.suptitle('Churn Rate vs Continuous Variables', fontsize=20, y=0.95)\n",
    "\n",
    "# Define variables and titles for the plots\n",
    "variables = ['credit_score', 'age', 'estimated_salary', 'balance']\n",
    "titles = ['Churn Rate vs Credit Score', 'Churn Rate vs Age', 'Churn Rate vs Estimated Salary', 'Churn Rate vs Balance']\n",
    "\n",
    "# Loop through variables and plot\n",
    "for i, (var, title) in enumerate(zip(variables, titles)):\n",
    "    # Scatterplot\n",
    "    ax_scatter = fig.add_subplot(gs[i // 2 * 2, i % 2])\n",
    "    sns.scatterplot(data=full_df, x=var, y='churn', alpha=0.5, ax=ax_scatter)\n",
    "    ax_scatter.set_title(title)\n",
    "    ax_scatter.set_ylabel('Churn Rate')\n",
    "    \n",
    "    # Boxplot\n",
    "    ax_box = fig.add_subplot(gs[i // 2 * 2 + 1, i % 2])\n",
    "    sns.boxplot(data=full_df, x=var, color='orange', ax=ax_box)\n",
    "    ax_box.set_title('')\n",
    "\n",
    "# Adjust layout to prevent overlap\n",
    "plt.tight_layout(rect=[0, 0, 1, 0.95])\n",
    "\n",
    "# Show the plots\n",
    "plt.show()\n"
   ]
  },
  {
   "cell_type": "markdown",
   "metadata": {},
   "source": [
    "## Categorical variables: \n"
   ]
  },
  {
   "cell_type": "code",
   "execution_count": 1,
   "metadata": {},
   "outputs": [
    {
     "ename": "NameError",
     "evalue": "name 'plt' is not defined",
     "output_type": "error",
     "traceback": [
      "\u001b[31m---------------------------------------------------------------------------\u001b[39m",
      "\u001b[31mNameError\u001b[39m                                 Traceback (most recent call last)",
      "\u001b[36mCell\u001b[39m\u001b[36m \u001b[39m\u001b[32mIn[1]\u001b[39m\u001b[32m, line 2\u001b[39m\n\u001b[32m      1\u001b[39m \u001b[38;5;66;03m# Set up a larger figure with a grid of 3x2 subplots\u001b[39;00m\n\u001b[32m----> \u001b[39m\u001b[32m2\u001b[39m fig, axes = \u001b[43mplt\u001b[49m.subplots(\u001b[32m3\u001b[39m, \u001b[32m2\u001b[39m, figsize=(\u001b[32m20\u001b[39m, \u001b[32m15\u001b[39m))\n\u001b[32m      4\u001b[39m \u001b[38;5;66;03m# Set the figure title\u001b[39;00m\n\u001b[32m      5\u001b[39m fig.suptitle(\u001b[33m'\u001b[39m\u001b[33mChurn Rate vs Categorical Variables\u001b[39m\u001b[33m'\u001b[39m, fontsize=\u001b[32m20\u001b[39m, y=\u001b[32m0.95\u001b[39m)\n",
      "\u001b[31mNameError\u001b[39m: name 'plt' is not defined"
     ]
    }
   ],
   "source": [
    "# Set up a larger figure with a grid of 3x2 subplots\n",
    "fig, axes = plt.subplots(3, 2, figsize=(20, 15))\n",
    "\n",
    "# Set the figure title\n",
    "fig.suptitle('Churn Rate vs Categorical Variables', fontsize=20, y=0.95)\n",
    "\n",
    "# Define categorical variables and titles for the plots\n",
    "cat_variables = ['gender', 'country', 'credit_card', 'active_member', 'products_number', 'tenure']\n",
    "titles = ['Churn vs Gender', 'Churn vs Country', 'Churn vs Credit Card', \n",
    "          'Churn vs Active Member', 'Churn vs Products Number', 'Churn vs Tenure']\n",
    "\n",
    "# Loop through variables and plot\n",
    "for ax, var, title in zip(axes.flatten(), cat_variables, titles):\n",
    "    sns.barplot(data=full_df, x=var, y='churn', ax=ax)\n",
    "    ax.set_title(title)\n",
    "    ax.set_ylabel('Churn Rate')\n",
    "    ax.set_xlabel(var.capitalize())\n",
    "\n",
    "# Adjust layout to prevent overlap\n",
    "plt.tight_layout(rect=[0, 0, 1, 0.95])\n",
    "\n",
    "# Show the plots\n",
    "plt.show()\n"
   ]
  },
  {
   "cell_type": "markdown",
   "metadata": {},
   "source": [
    "## Analysis of Categorical Variables and Their Relationship with Churn\n",
    "\n",
    "### Key Observations and Modeling Implications:\n",
    "\n",
    "1. **Gender**\n",
    "   - Slight imbalance in distribution (more females than males)\n",
    "   - Similar churn rates between groups\n",
    "   - **Modeling Decision**: Include as-is, but consider:\n",
    "     - Using stratification in train-test split\n",
    "     - Checking for interaction effects with other variables\n",
    "\n",
    "2. **Country**\n",
    "   - Uneven distribution (Germany ~2x France/Spain)\n",
    "   - Different churn patterns across countries\n",
    "   - **Modeling Decision**: \n",
    "     - Convert to dummy variables\n",
    "     - Consider weighted sampling if using tree-based models\n",
    "     - Important feature to keep due to visible variation in churn rates\n",
    "\n",
    "3. **Credit Card Status**\n",
    "   - Balanced distribution\n",
    "   - Similar churn rates between holders/non-holders\n",
    "   - **Modeling Decision**: Consider excluding due to low predictive power\n",
    "     - Run feature importance check to confirm\n",
    "     - Could be kept for interaction effects\n",
    "\n",
    "4. **Active Member Status**\n",
    "   - Strong predictor: 2x churn rate for inactive members\n",
    "   - Clear separation between groups\n",
    "   - **Modeling Decision**: \n",
    "     - Definitely keep\n",
    "     - Consider as primary feature\n",
    "     - Check for interactions with balance and products_number\n",
    "\n",
    "5. **Products Number**\n",
    "   - Higher churn for 3-4 products\n",
    "   - Non-linear relationship with churn\n",
    "   - **Modeling Decision**:\n",
    "     - Keep as categorical rather than continuous\n",
    "     - Consider binning into: low (1-2) and high (3-4) products\n",
    "     - Test both original and binned versions\n",
    "\n",
    "6. **Tenure**\n",
    "   - Uniform distribution across groups\n",
    "   - Weak relationship with churn\n",
    "   - **Modeling Decision**:\n",
    "     - Test both as continuous and categorical\n",
    "     - Consider binning into meaningful groups (new/established customers)\n",
    "     - Check for interaction with active_member\n",
    "     \n",
    "\n",
    "\n"
   ]
  },
  {
   "cell_type": "markdown",
   "metadata": {},
   "source": [
    "## Next Steps: Modular Functions for Data Upload and Validation\n",
    "\n",
    "To make our workflow more robust and reusable, let's work together to build modular functions for:\n",
    "- Uploading data to BigQuery safely\n",
    "- Validating data quality (missing values, duplicates, etc.)\n",
    "\n",
    "We'll develop these step by step in the next cells, so you can learn and participate in the process."
   ]
  }
 ],
 "metadata": {
  "kernelspec": {
   "display_name": ".venv (3.12.1)",
   "language": "python",
   "name": "python3"
  },
  "language_info": {
   "codemirror_mode": {
    "name": "ipython",
    "version": 3
   },
   "file_extension": ".py",
   "mimetype": "text/x-python",
   "name": "python",
   "nbconvert_exporter": "python",
   "pygments_lexer": "ipython3",
   "version": "3.12.1"
  }
 },
 "nbformat": 4,
 "nbformat_minor": 2
}
