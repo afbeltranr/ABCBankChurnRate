{
 "cells": [
  {
   "cell_type": "markdown",
   "metadata": {},
   "source": [
    "# 📊 Customer Churn Analysis with BigQuery & Python 🚀\n",
    "\n",
    "## **Introduction**\n",
    "\n",
    "In this notebook, we will analyze customer churn data using Google BigQuery and Python. The dataset contains information about customers. the varibles in the dataset are:\n",
    "\n",
    "1. customer_id, unused variable.\n",
    "2. credit_score, used as input.\n",
    "3. country, used as input.\n",
    "4. gender, used as input.\n",
    "5. age, used as input.\n",
    "6. tenure, used as input.\n",
    "7. balance, used as input.\n",
    "8. products_number, used as input.\n",
    "9. credit_card, used as input.\n",
    "10. active_member, used as input.\n",
    "11. estimated_salary, used as input.\n",
    "12. churn, used as the target. 1 if the client has left the bank during some period or 0 if he/she has not.\n",
    "\n",
    "## **🔗 Key Milestones Achieved So Far**\n",
    "✅ **Cloud Integration**: We set up a **Google Cloud Service Account** to securely connect Kaggle datasets with BigQuery.  \n",
    "✅ **Database Setup**: The dataset was uploaded to **BigQuery** for efficient querying and analysis.  \n",
    "✅ **Local Execution**: Instead of downloading large files, we now run **SQL queries directly from this notebook** and retrieve data as Pandas DataFrames.  \n",
    "\n",
    "## **📌 Current Focus**\n",
    "🔹 Writing and executing **SQL queries** in BigQuery to explore churn-related patterns.  \n",
    "🔹 Using **Python & Pandas** to analyze query results and create **visualizations**.  \n",
    "🔹 Investigating feature selection techniques to identify the most relevant variables for churn prediction.  \n",
    "\n",
    "## **🚀 Next Steps & Production Plan**\n",
    "🔜 Transitioning from exploratory analysis to **machine learning modeling**.  \n",
    "🔜 Designing a **CI/CD pipeline** for automating data ingestion and model updates.  \n",
    "🔜 Deploying insights into a **dashboard or API** for real-time churn monitoring.  "
   ]
  }
 ],
 "metadata": {
  "language_info": {
   "name": "python"
  }
 },
 "nbformat": 4,
 "nbformat_minor": 2
}
